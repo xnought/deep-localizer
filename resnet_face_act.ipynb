{
 "cells": [
  {
   "cell_type": "code",
   "execution_count": 3,
   "metadata": {},
   "outputs": [
    {
     "data": {
      "application/vnd.jupyter.widget-view+json": {
       "model_id": "cdb9ffdb7524424095d7425f790e5d1a",
       "version_major": 2,
       "version_minor": 0
      },
      "text/plain": [
       "preprocessor_config.json:   0%|          | 0.00/266 [00:00<?, ?B/s]"
      ]
     },
     "metadata": {},
     "output_type": "display_data"
    },
    {
     "data": {
      "application/vnd.jupyter.widget-view+json": {
       "model_id": "321c5ee20ca147cea9a54c58916e4c16",
       "version_major": 2,
       "version_minor": 0
      },
      "text/plain": [
       "config.json:   0%|          | 0.00/69.5k [00:00<?, ?B/s]"
      ]
     },
     "metadata": {},
     "output_type": "display_data"
    },
    {
     "data": {
      "application/vnd.jupyter.widget-view+json": {
       "model_id": "cf1784a097db4d29a9ab43c0813b0657",
       "version_major": 2,
       "version_minor": 0
      },
      "text/plain": [
       "model.safetensors:   0%|          | 0.00/87.3M [00:00<?, ?B/s]"
      ]
     },
     "metadata": {},
     "output_type": "display_data"
    }
   ],
   "source": [
    "from transformers import AutoImageProcessor, ResNetForImageClassification\n",
    "import torch\n",
    "\n",
    "DEVICE = torch.device(\"cuda\" if torch.cuda.is_available() else \"cpu\")\n",
    "\n",
    "processor = AutoImageProcessor.from_pretrained(\"microsoft/resnet-34\")\n",
    "model = ResNetForImageClassification.from_pretrained(\"microsoft/resnet-34\")\n",
    "model = model.to(DEVICE)\n",
    "\n",
    "class ActivationTracker:\n",
    "    def __init__(self, layers):\n",
    "        self.activations = {}\n",
    "        self.layers = layers\n",
    "        self.hooks = []\n",
    "        for l in layers:\n",
    "            self.hooks.append(\n",
    "                self.register_hook(l)\n",
    "            )\n",
    "\n",
    "    def remove_hooks(self):\n",
    "        for h in self.hooks:\n",
    "            h.remove()\n",
    "        self.hooks = []\n",
    "        self.activations = []\n",
    "\n",
    "    def register_hook(self, layer):\n",
    "        def hook(module, inputs, outputs):\n",
    "            self.activations[layer] = outputs.detach().cpu()\n",
    "            return outputs\n",
    "        return layer.register_forward_hook(hook)\n",
    "    \n",
    "    def shapes(self):\n",
    "        shapes = []\n",
    "        for l in self.layers:\n",
    "            a = self.activations[l]\n",
    "            shapes.append(list(a.shape))\n",
    "        return shapes\n",
    "    \n",
    "    def flat_activations(self):\n",
    "        data = []\n",
    "        for l in self.layers:\n",
    "            data.append(self.activations[l].flatten())\n",
    "        return torch.concat(data)\n",
    "    \n",
    "    def activations_inorder(self):\n",
    "        data = []\n",
    "        for l in self.layers:\n",
    "            data.append(self.activations[l])\n",
    "        return data\n",
    "    \n",
    "    def __enter__(self):\n",
    "        return self\n",
    "    def __exit__(self, exception_type, exception_value, exception_traceback):\n",
    "        self.remove_hooks()"
   ]
  },
  {
   "cell_type": "code",
   "execution_count": 5,
   "metadata": {},
   "outputs": [],
   "source": [
    "from PIL import Image\n",
    "\n",
    "@torch.no_grad()\n",
    "def forward(image):\n",
    "    model.eval()\n",
    "    inputs = processor(image, return_tensors=\"pt\").to(DEVICE)\n",
    "    logits = model(**inputs).logits\n",
    "    labels = logits.argmax(-1).cpu().tolist()\n",
    "    return labels\n",
    "fetch_data = lambda path: Image.open(f\"./data/{path}\").convert(\"RGB\")"
   ]
  },
  {
   "cell_type": "code",
   "execution_count": 6,
   "metadata": {},
   "outputs": [
    {
     "data": {
      "text/html": [
       "<div>\n",
       "<style scoped>\n",
       "    .dataframe tbody tr th:only-of-type {\n",
       "        vertical-align: middle;\n",
       "    }\n",
       "\n",
       "    .dataframe tbody tr th {\n",
       "        vertical-align: top;\n",
       "    }\n",
       "\n",
       "    .dataframe thead th {\n",
       "        text-align: right;\n",
       "    }\n",
       "</style>\n",
       "<table border=\"1\" class=\"dataframe\">\n",
       "  <thead>\n",
       "    <tr style=\"text-align: right;\">\n",
       "      <th></th>\n",
       "      <th>data</th>\n",
       "      <th>positive</th>\n",
       "    </tr>\n",
       "  </thead>\n",
       "  <tbody>\n",
       "    <tr>\n",
       "      <th>0</th>\n",
       "      <td>celeba/398.jpg</td>\n",
       "      <td>True</td>\n",
       "    </tr>\n",
       "    <tr>\n",
       "      <th>1</th>\n",
       "      <td>celeba/3833.jpg</td>\n",
       "      <td>True</td>\n",
       "    </tr>\n",
       "    <tr>\n",
       "      <th>2</th>\n",
       "      <td>celeba/4836.jpg</td>\n",
       "      <td>True</td>\n",
       "    </tr>\n",
       "    <tr>\n",
       "      <th>3</th>\n",
       "      <td>celeba/4572.jpg</td>\n",
       "      <td>True</td>\n",
       "    </tr>\n",
       "    <tr>\n",
       "      <th>4</th>\n",
       "      <td>celeba/636.jpg</td>\n",
       "      <td>True</td>\n",
       "    </tr>\n",
       "    <tr>\n",
       "      <th>...</th>\n",
       "      <td>...</td>\n",
       "      <td>...</td>\n",
       "    </tr>\n",
       "    <tr>\n",
       "      <th>1995</th>\n",
       "      <td>val2017/000000294855.jpg</td>\n",
       "      <td>False</td>\n",
       "    </tr>\n",
       "    <tr>\n",
       "      <th>1996</th>\n",
       "      <td>val2017/000000142790.jpg</td>\n",
       "      <td>False</td>\n",
       "    </tr>\n",
       "    <tr>\n",
       "      <th>1997</th>\n",
       "      <td>val2017/000000297085.jpg</td>\n",
       "      <td>False</td>\n",
       "    </tr>\n",
       "    <tr>\n",
       "      <th>1998</th>\n",
       "      <td>val2017/000000140286.jpg</td>\n",
       "      <td>False</td>\n",
       "    </tr>\n",
       "    <tr>\n",
       "      <th>1999</th>\n",
       "      <td>val2017/000000125211.jpg</td>\n",
       "      <td>False</td>\n",
       "    </tr>\n",
       "  </tbody>\n",
       "</table>\n",
       "<p>2000 rows × 2 columns</p>\n",
       "</div>"
      ],
      "text/plain": [
       "                          data  positive\n",
       "0               celeba/398.jpg      True\n",
       "1              celeba/3833.jpg      True\n",
       "2              celeba/4836.jpg      True\n",
       "3              celeba/4572.jpg      True\n",
       "4               celeba/636.jpg      True\n",
       "...                        ...       ...\n",
       "1995  val2017/000000294855.jpg     False\n",
       "1996  val2017/000000142790.jpg     False\n",
       "1997  val2017/000000297085.jpg     False\n",
       "1998  val2017/000000140286.jpg     False\n",
       "1999  val2017/000000125211.jpg     False\n",
       "\n",
       "[2000 rows x 2 columns]"
      ]
     },
     "execution_count": 6,
     "metadata": {},
     "output_type": "execute_result"
    }
   ],
   "source": [
    "import pandas as pd\n",
    "df = pd.read_parquet(\"./data/tasks/face_task2k.parquet\")\n",
    "df"
   ]
  },
  {
   "cell_type": "code",
   "execution_count": 7,
   "metadata": {},
   "outputs": [
    {
     "data": {
      "application/vnd.jupyter.widget-view+json": {
       "model_id": "b962ffe5ce44487db1da95742ccb5a0c",
       "version_major": 2,
       "version_minor": 0
      },
      "text/plain": [
       "  0%|          | 0/63 [00:00<?, ?it/s]"
      ]
     },
     "metadata": {},
     "output_type": "display_data"
    }
   ],
   "source": [
    "from tqdm.notebook import tqdm\n",
    "\n",
    "batch_size = 32\n",
    "layers = [layer for stage in model.resnet.encoder.stages for layer in stage.layers]\n",
    "\n",
    "labels_col = []\n",
    "acts_col = []\n",
    "with ActivationTracker(layers) as t:\n",
    "\tfor i in tqdm(range(0, len(df), batch_size)):\n",
    "\t\tbatch = df.iloc[i:i+batch_size]\n",
    "\t\tinputs = batch[\"data\"].apply(fetch_data).tolist()\n",
    "\t\tlabels = forward(inputs)\n",
    "\t\tlabels_col.extend(labels)\n",
    "\t\tacts_col.append(t.activations_inorder())"
   ]
  },
  {
   "cell_type": "code",
   "execution_count": 8,
   "metadata": {},
   "outputs": [],
   "source": [
    "def stack_layer_activations(acts: list[torch.Tensor]):\n",
    "\tresults = []\n",
    "\tfor j in range(len(acts[0])):\n",
    "\t\tcol = [t[j] for t in acts]\n",
    "\t\tpooled = torch.vstack(col)\n",
    "\t\tresults.append(pooled)\n",
    "\treturn results\n",
    "\n",
    "stacked = stack_layer_activations(acts_col)\n",
    "del acts_col"
   ]
  },
  {
   "cell_type": "code",
   "execution_count": 9,
   "metadata": {},
   "outputs": [],
   "source": [
    "from safetensors.torch import save_file\n",
    "def export_safetensors(layers_tensors, name):\n",
    "\texport_dict = {}\n",
    "\tfor i, l in enumerate(layers_tensors):\n",
    "\t\texport_dict[f\"layer{i}\"] = l\n",
    "\tsave_file(export_dict, name)\n",
    "\n",
    "export_safetensors(stacked,\"./data/tasks/face_task2k.safetensors\")"
   ]
  },
  {
   "cell_type": "code",
   "execution_count": 13,
   "metadata": {},
   "outputs": [],
   "source": [
    "df[\"label\"] = labels_col"
   ]
  },
  {
   "cell_type": "code",
   "execution_count": 15,
   "metadata": {},
   "outputs": [],
   "source": [
    "df.to_parquet(\"./data/tasks/face_task2k_with_labels.parquet\", index=False)"
   ]
  }
 ],
 "metadata": {
  "kernelspec": {
   "display_name": "Python 3",
   "language": "python",
   "name": "python3"
  },
  "language_info": {
   "codemirror_mode": {
    "name": "ipython",
    "version": 3
   },
   "file_extension": ".py",
   "mimetype": "text/x-python",
   "name": "python",
   "nbconvert_exporter": "python",
   "pygments_lexer": "ipython3",
   "version": "3.10.16"
  }
 },
 "nbformat": 4,
 "nbformat_minor": 2
}
