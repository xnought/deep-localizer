{
 "cells": [
  {
   "cell_type": "code",
   "execution_count": 6,
   "metadata": {},
   "outputs": [],
   "source": [
    "import torch\n",
    "\n",
    "def pool_activations(acts: list[torch.Tensor]):\n",
    "\tresults = []\n",
    "\tfor j in range(len(acts[0])):\n",
    "\t\tcol = [t[j] for t in acts]\n",
    "\t\tpooled = torch.vstack(col)\n",
    "\t\tresults.append(pooled)\n",
    "\treturn results"
   ]
  },
  {
   "cell_type": "code",
   "execution_count": 10,
   "metadata": {},
   "outputs": [
    {
     "data": {
      "text/plain": [
       "[[tensor([[[1., 1.],\n",
       "           [1., 1.]]]),\n",
       "  tensor([[[1., 1.],\n",
       "           [1., 1.],\n",
       "           [1., 1.],\n",
       "           [1., 1.],\n",
       "           [1., 1.]]])],\n",
       " [tensor([[[1., 1.],\n",
       "           [1., 1.]]]),\n",
       "  tensor([[[1., 1.],\n",
       "           [1., 1.],\n",
       "           [1., 1.],\n",
       "           [1., 1.],\n",
       "           [1., 1.]]])],\n",
       " [tensor([[[1., 1.],\n",
       "           [1., 1.]]]),\n",
       "  tensor([[[1., 1.],\n",
       "           [1., 1.],\n",
       "           [1., 1.],\n",
       "           [1., 1.],\n",
       "           [1., 1.]]])]]"
      ]
     },
     "execution_count": 10,
     "metadata": {},
     "output_type": "execute_result"
    }
   ],
   "source": [
    "b = [[torch.ones((1, 2,2)), torch.ones((1, 5,2))], [torch.ones((1, 2,2)), torch.ones((1, 5,2))], [torch.ones((1, 2,2)), torch.ones((1, 5,2))] ]\n",
    "b"
   ]
  },
  {
   "cell_type": "code",
   "execution_count": 11,
   "metadata": {},
   "outputs": [
    {
     "name": "stdout",
     "output_type": "stream",
     "text": [
      "torch.Size([3, 2, 2])\n",
      "torch.Size([3, 5, 2])\n"
     ]
    }
   ],
   "source": [
    "for i in pool_activations(b):\n",
    "\tprint(i.shape)"
   ]
  },
  {
   "cell_type": "code",
   "execution_count": null,
   "metadata": {},
   "outputs": [],
   "source": []
  }
 ],
 "metadata": {
  "kernelspec": {
   "display_name": "Python 3",
   "language": "python",
   "name": "python3"
  },
  "language_info": {
   "codemirror_mode": {
    "name": "ipython",
    "version": 3
   },
   "file_extension": ".py",
   "mimetype": "text/x-python",
   "name": "python",
   "nbconvert_exporter": "python",
   "pygments_lexer": "ipython3",
   "version": "3.10.16"
  }
 },
 "nbformat": 4,
 "nbformat_minor": 2
}
