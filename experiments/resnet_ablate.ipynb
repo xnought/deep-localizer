{
 "cells": [
  {
   "cell_type": "code",
   "execution_count": 1,
   "metadata": {},
   "outputs": [
    {
     "name": "stderr",
     "output_type": "stream",
     "text": [
      "2025-03-02 23:55:23.188539: I tensorflow/core/platform/cpu_feature_guard.cc:210] This TensorFlow binary is optimized to use available CPU instructions in performance-critical operations.\n",
      "To enable the following instructions: AVX2 FMA, in other operations, rebuild TensorFlow with the appropriate compiler flags.\n",
      "Using a slow image processor as `use_fast` is unset and a slow processor was saved with this model. `use_fast=True` will be the default behavior in v4.48, even if the model was saved with a slow processor. This will result in minor differences in outputs. You'll still be able to use a slow processor with `use_fast=False`.\n"
     ]
    }
   ],
   "source": [
    "from transformers import AutoImageProcessor, ResNetForImageClassification\n",
    "import torch\n",
    "\n",
    "DEVICE = torch.device(\"cuda\" if torch.cuda.is_available() else \"cpu\")\n",
    "\n",
    "processor = AutoImageProcessor.from_pretrained(\"microsoft/resnet-34\")\n",
    "model = ResNetForImageClassification.from_pretrained(\"microsoft/resnet-34\")\n",
    "model = model.to(DEVICE)"
   ]
  },
  {
   "cell_type": "code",
   "execution_count": 4,
   "metadata": {},
   "outputs": [],
   "source": [
    "from PIL import Image\n",
    "@torch.no_grad()\n",
    "def forward(image):\n",
    "    model.eval()\n",
    "    inputs = processor(image, return_tensors=\"pt\").to(DEVICE)\n",
    "    logits = model(**inputs).logits\n",
    "    labels = logits.argmax(-1).cpu().tolist()\n",
    "    return labels\n",
    "fetch_data = lambda path: Image.open(f\"./data/{path}\").convert(\"RGB\")"
   ]
  },
  {
   "cell_type": "code",
   "execution_count": 46,
   "metadata": {},
   "outputs": [
    {
     "name": "stdout",
     "output_type": "stream",
     "text": [
      "predicted bath towel\n"
     ]
    }
   ],
   "source": [
    "class AblateTorchModel:\n",
    "    def __init__(self, layers, ablate, scaler=0):\n",
    "        self.layers = layers\n",
    "        self.ablate = ablate\n",
    "        self.hooks = []\n",
    "        for l, a in zip(layers, ablate):\n",
    "            self.hooks.append(\n",
    "                self.register_hook(l, a, scaler)\n",
    "            )\n",
    "\n",
    "    def remove_hooks(self):\n",
    "        for h in self.hooks:\n",
    "            h.remove()\n",
    "        self.hooks = []\n",
    "\n",
    "    def register_hook(self, layer, ablate, scaler):\n",
    "        def hook(module, inputs, outputs):\n",
    "            B = outputs.shape[0]\n",
    "            flat = outputs.view(B, -1)\n",
    "            flat[:, ablate] *= scaler\n",
    "            return outputs\n",
    "        return layer.register_forward_hook(hook)\n",
    "    \n",
    "    def __enter__(self):\n",
    "        return self\n",
    "    def __exit__(self, exception_type, exception_value, exception_traceback):\n",
    "        self.remove_hooks()\n",
    "\n",
    "layers = [layer for stage in model.resnet.encoder.stages for layer in stage.layers]\n",
    "to_ablate_flat_idxs = [[i for i in range(2_000)] for _ in layers]\n",
    "with AblateTorchModel(layers, to_ablate_flat_idxs, -1) as a:\n",
    "    image = fetch_data(\"dog.jpeg\")\n",
    "    labels = forward(image)\n",
    "    print(\"predicted\", model.config.id2label[labels[0]])\n",
    "    "
   ]
  }
 ],
 "metadata": {
  "kernelspec": {
   "display_name": "Python 3",
   "language": "python",
   "name": "python3"
  },
  "language_info": {
   "codemirror_mode": {
    "name": "ipython",
    "version": 3
   },
   "file_extension": ".py",
   "mimetype": "text/x-python",
   "name": "python",
   "nbconvert_exporter": "python",
   "pygments_lexer": "ipython3",
   "version": "3.10.16"
  }
 },
 "nbformat": 4,
 "nbformat_minor": 2
}
